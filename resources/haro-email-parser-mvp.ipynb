{
 "cells": [
  {
   "cell_type": "code",
   "execution_count": 17,
   "metadata": {
    "scrolled": true
   },
   "outputs": [
    {
     "output_type": "stream",
     "name": "stdout",
     "text": "Requirement already satisfied: bs4 in /usr/local/lib/python3.7/site-packages (0.0.1)\nRequirement already satisfied: beautifulsoup4 in /usr/local/lib/python3.7/site-packages (from bs4) (4.9.1)\nRequirement already satisfied: soupsieve>1.2 in /usr/local/lib/python3.7/site-packages (from beautifulsoup4->bs4) (2.0.1)\nNote: you may need to restart the kernel to use updated packages.\n"
    }
   ],
   "source": [
    "pip install bs4"
   ]
  },
  {
   "cell_type": "code",
   "execution_count": 19,
   "metadata": {},
   "outputs": [],
   "source": [
    "from bs4 import BeautifulSoup\n",
    "import bs4\n",
    "from datetime import datetime"
   ]
  },
  {
   "cell_type": "code",
   "execution_count": 20,
   "metadata": {},
   "outputs": [
    {
     "output_type": "stream",
     "name": "stdout",
     "text": "Requirement already satisfied: mailslurp-client in /usr/local/lib/python3.7/site-packages (7.0.10)\nRequirement already satisfied: python-dateutil in /usr/local/lib/python3.7/site-packages (from mailslurp-client) (2.8.0)\nRequirement already satisfied: six>=1.10 in /Users/arjunrao/Library/Python/3.7/lib/python/site-packages (from mailslurp-client) (1.12.0)\nRequirement already satisfied: urllib3>=1.15 in /usr/local/lib/python3.7/site-packages (from mailslurp-client) (1.24.2)\nRequirement already satisfied: certifi in /usr/local/lib/python3.7/site-packages (from mailslurp-client) (2019.3.9)\nNote: you may need to restart the kernel to use updated packages.\n"
    }
   ],
   "source": [
    "pip install mailslurp-client\n"
   ]
  },
  {
   "cell_type": "code",
   "execution_count": 21,
   "metadata": {},
   "outputs": [],
   "source": [
    "import mailslurp_client\n",
    "\n",
    "configuration = mailslurp_client.Configuration()\n",
    "configuration.api_key['x-api-key'] = \"\""
   ]
  },
  {
   "cell_type": "code",
   "execution_count": 22,
   "metadata": {},
   "outputs": [],
   "source": [
    "import pprint\n",
    "import mailslurp_client\n",
    "from mailslurp_client.rest import ApiException"
   ]
  },
  {
   "cell_type": "code",
   "execution_count": 23,
   "metadata": {},
   "outputs": [],
   "source": [
    "pp = pprint.PrettyPrinter(indent=4)"
   ]
  },
  {
   "cell_type": "code",
   "execution_count": 24,
   "metadata": {},
   "outputs": [],
   "source": [
    "# email_id = '9ac55027-b2f1-43af-bf8e-6c36a7888294'\n",
    "email_id= '67fd1c5b-53ab-4840-804d-95ab2d8df5a1'#'d10fa4d3-880b-46b1-9c30-2ba829c19d4e'#'8a079ecb-9d84-4045-801e-350a3ed8df5f'"
   ]
  },
  {
   "cell_type": "code",
   "execution_count": 25,
   "metadata": {},
   "outputs": [],
   "source": [
    "with mailslurp_client.ApiClient(configuration) as api_client:\n",
    "    api_instance = mailslurp_client.EmailControllerApi(api_client)\n",
    "    decode = False\n",
    "    try:\n",
    "        api_response = api_instance.get_email_html(email_id, decode=decode)\n",
    "#         pp.pprint(api_response)\n",
    "    except ApiException as e:\n",
    "        print(\"Exception when calling EmailControllerApi->get_email_html: %s\\n\" % e)"
   ]
  },
  {
   "cell_type": "code",
   "execution_count": 26,
   "metadata": {},
   "outputs": [
    {
     "output_type": "stream",
     "name": "stdout",
     "text": "Requirement already satisfied: lxml in /usr/local/lib/python3.7/site-packages (4.5.1)\nNote: you may need to restart the kernel to use updated packages.\n"
    }
   ],
   "source": [
    "pip install lxml\n"
   ]
  },
  {
   "cell_type": "code",
   "execution_count": 27,
   "metadata": {},
   "outputs": [],
   "source": [
    "soup = BeautifulSoup(api_response, 'lxml')"
   ]
  },
  {
   "cell_type": "code",
   "execution_count": 28,
   "metadata": {},
   "outputs": [
    {
     "output_type": "execute_result",
     "data": {
      "text/plain": "[<h4>********* INDEX ***********</h4>,\n <h4>Biotech and Healthcare</h4>,\n <h4>Business and Finance </h4>,\n <h4>Education </h4>,\n <h4>General</h4>,\n <h4>Lifestyle and Fitness</h4>,\n <h4>Public Policy and Government</h4>,\n <h4>****************************</h4>,\n <h4><strong>Biotech and Healthcare</strong></h4>,\n <h4><strong>Business and Finance </strong></h4>,\n <h4><strong>Education </strong></h4>,\n <h4><strong>General</strong></h4>,\n <h4><strong>Lifestyle and Fitness</strong></h4>,\n <h4><strong>Public Policy and Government</strong></h4>]"
     },
     "metadata": {},
     "execution_count": 28
    }
   ],
   "source": [
    "soup.find_all('h4')"
   ]
  },
  {
   "cell_type": "code",
   "execution_count": 29,
   "metadata": {},
   "outputs": [],
   "source": [
    "categories = soup.find_all('h4')"
   ]
  },
  {
   "cell_type": "code",
   "execution_count": 30,
   "metadata": {},
   "outputs": [],
   "source": [
    "all_links = {}\n",
    "for h in categories:\n",
    "    a = h.find_all('a')\n",
    "    all_links[h.text] = a\n",
    "# html = u\"\"\n",
    "# for tag in soup.find(\"h4\").next_siblings:\n",
    "#     if tag.name == \"h4\":\n",
    "#         break\n",
    "#     else:\n",
    "#         html += str(tag)"
   ]
  },
  {
   "cell_type": "code",
   "execution_count": 31,
   "metadata": {},
   "outputs": [
    {
     "output_type": "execute_result",
     "data": {
      "text/plain": "[<h4>********* INDEX ***********</h4>,\n <h4>Biotech and Healthcare</h4>,\n <h4>Business and Finance </h4>,\n <h4>Education </h4>,\n <h4>General</h4>,\n <h4>Lifestyle and Fitness</h4>,\n <h4>Public Policy and Government</h4>,\n <h4>****************************</h4>,\n <h4><strong>Biotech and Healthcare</strong></h4>,\n <h4><strong>Business and Finance </strong></h4>,\n <h4><strong>Education </strong></h4>,\n <h4><strong>General</strong></h4>,\n <h4><strong>Lifestyle and Fitness</strong></h4>,\n <h4><strong>Public Policy and Government</strong></h4>]"
     },
     "metadata": {},
     "execution_count": 31
    }
   ],
   "source": [
    "categories"
   ]
  },
  {
   "cell_type": "code",
   "execution_count": 32,
   "metadata": {},
   "outputs": [],
   "source": [
    "for e in soup.findAll('br'):\n",
    "    e.extract()"
   ]
  },
  {
   "cell_type": "code",
   "execution_count": 33,
   "metadata": {},
   "outputs": [],
   "source": [
    "reporters_in_category = {}\n",
    "for category in categories:\n",
    "    all_tags = []\n",
    "    for tag in category.next_siblings:\n",
    "        if tag.name == \"h4\":\n",
    "            break\n",
    "        else:\n",
    "            all_tags.append(tag)\n",
    "    reporters_in_category[category.text] = all_tags"
   ]
  },
  {
   "cell_type": "code",
   "execution_count": 34,
   "metadata": {},
   "outputs": [
    {
     "output_type": "execute_result",
     "data": {
      "text/plain": "\n  '\\r\\nDeadline: 7:00 PM EST - 24 May\\r\\n',\n  '\\n',\n  <p>\n  Query: \n  \n   Hello, My name is Julie and I am the owner of Emmy's Deals. Weare putting together different gift guides this year. We arelooking for amazing products to feature in our gift guides. Weare looking from adult items- baby items. We are open to manydifferent ideas. We would love to feature your product in one ofour guides.\n  </p>,\n  '\\n',\n  <p><a href=\"#top\">Back to Top</a> <a href=\"#General\">Back to Category Index</a></p>,\n  '\\n',\n  <p>-----------------------------------</p>,\n  '\\r\\n\\r\\n13)',\n  <a id=\"asuc\" name=\"asuc\"></a>,\n  ' Summary: Anniversary Gifts For Him On Little Helpers In Life\\r\\n',\n  '\\n',\n  <p>Name: Amanda Osburn\n  Little Helpers In Life\n  </p>,\n  'Category: General\\r\\n',\n  '\\r\\nEmail: ',\n  <a href=\"mailto:query-asuc@helpareporter.net\">query-asuc@helpareporter.net</a>,\n  '\\n',\n  '\\r\\nMedia Outlet: Little Helpers In Life',\n  '\\r\\nDeadline: 7:00 PM EST - 24 May\\r\\n',\n  '\\n',\n  <p>\n  Query: \n  \n  Hi, my name is Amanda. I run a blog called Little Helpers InLife. I am looking to do reviews on my blog about great andinteresting gift ideas for anniversaries for men. As I know alot of women have a hard time finding that perfect gift for himwhen it comes to the perfect anniversary gift. I look forward toworking with you! This can include anything from pocket knives,watches, clothing, wallets, adult toys etc. There will be apermanent link for each item featured onwww.littlehelpersinlife.com This blog follows FTC bloggerguidelines, and has unique monthly visitors.Full size product isrequired for photography, and content creation reasons.\n  </p>,\n  '\\n',\n  <p>\n  Requirements: \n  \n  Full size product is required for photography and contentcreation reasons.\n  </p>,\n  '\\n',\n  <p><a href=\"#top\">Back to Top</a> <a href=\"#General\">Back to Category Index</a></p>,\n  '\\n',\n  <p>-----------------------------------</p>,\n  '\\r\\n\\r\\n14)',\n  <a id=\"asud\" name=\"asud\"></a>,\n  ' Summary: Entertainment Gift Guide 2020\\r\\n',\n  '\\n',\n  <p>Name: Amanda Osburn\n  Little Helpers In Life\n  </p>,\n  'Category: General\\r\\n',\n  '\\r\\nEmail: ',\n  <a href=\"mailto:query-asud@helpareporter.net\">query-asud@helpareporter.net</a>,\n  '\\n',\n  '\\r\\nMedia Outlet: Little Helpers In Life',\n  '\\r\\nDeadline: 7:00 PM EST - 24 May\\r\\n',\n  '\\n',\n  <p>\n  Query: \n  \n  Hi my name is Amanda and I own Little Helpers In Life where I doreviews,and much more. I am starting to gather differentsponsors for my entertainment gift guide. Items I am looking toinclude could be games, products for hosting, products that makegood gifts for hosts, dinnerware, silverware, etc. All I requireis full size products in exchange for a feature in my guide.Thank you so much for taking the time to read this. I lookforward to working together.\n  </p>,\n  '\\n',\n  <p>\n  Requirements: \n  \n  Full size product is required for photography and contentcreation reasons.\n  </p>,\n  '\\n',\n  <p><a href=\"#top\">Back to Top</a> <a href=\"#General\">Back to Category Index</a></p>,\n  '\\n',\n  <p>-----------------------------------</p>,\n  '\\r\\n\\r\\n15)',\n  <a id=\"asuf\" name=\"asuf\"></a>,\n  ' Summary: Beautifying Your Yard And Home\\r\\n',\n  '\\n',\n  <p>Name: Amanda Osburn\n  Little Helpers In Life\n  </p>,\n  'Category: General\\r\\n',\n  '\\r\\nEmail: ',\n  <a href=\"mailto:query-asuf@helpareporter.net\">query-asuf@helpareporter.net</a>,\n  '\\n',\n  '\\r\\nMedia Outlet: Little Helpers In Life',\n  '\\r\\nDeadline: 7:00 PM EST - 21 May\\r\\n',\n  '\\n',\n  <p>\n  Query: \n  \n   Hello, My name is Amanda. I run a blog called Little Helpers InLife. I am looking for items to add into my Household Guide. Iam looking for things to help making keeping your yard cleanedup easier. This can include yard tools, plants, trees, anygardening tools, patio furniture, pool side accessories.Anything you can use to make your yard look better. There willbe a permanent link for each item featured onwww.littlehelpersinlife.com Full size product is required forphotography and content creation reasons. Thank you for yourtime.\n  </p>,\n  '\\n',\n  <p>\n  Requirements: \n  \n  Full size product is required for photography and contentcreation reasons.\n  </p>,\n  '\\n',\n  <p><a href=\"#top\">Back to Top</a> <a href=\"#General\">Back to Category Index</a></p>,\n  '\\n',\n  <p>-----------------------------------</p>,\n  '\\r\\n\\r\\n16)',\n  <a id=\"at9o\" name=\"at9o\"></a>,\n  ' Summary: TK Products That Can Turn Your Backyard Into a Relaxing Oasis\\r\\n',\n  '\\n',\n  <p>Name: Mia Taylor\n  Cheapism\n  </p>,\n  'Category: General\\r\\n',\n  '\\r\\nEmail: ',\n  <a href=\"mailto:query-at9o@helpareporter.net\">query-at9o@helpareporter.net</a>,\n  '\\n',\n  '\\r\\nMedia Outlet: Cheapism',\n  '\\r\\nDeadline: 10:00 PM EST - 26 May\\r\\n',\n  '\\n',\n  <p>\n  Query: \n  \n  With many of us being stuck at home this summer, what are someof the items that can help turn your backyard into a relaxingoasis? - Examples - Shade canopies, outdoor rugs, hammocks,string lights, bird baths  ...  anything for that moment of zen.\n  </p>,\n  '\\n',\n  <p>\n  Requirements: \n  \n  Please provide link to product in question and a few sentencesof description about why it is such a great buy.No luxury products - we are a budget friendly website.Please put the title of this story in the subject line of yourpitch.Products must be in stock.\n  </p>,\n  '\\n',\n  <p><a href=\"#top\">Back to Top</a> <a href=\"#General\">Back to Category Index</a></p>,\n  '\\n',\n  <p>-----------------------------------</p>,\n  '\\r\\n\\r\\n17)',\n  <a id=\"atcp\" name=\"atcp\"></a>,\n  ' Summary: Summer Must-Haves\\r\\n',\n  '\\n',\n  <p>Name: Nickki Mauceri\n  Blogger\n  </p>,\n  'Category: General\\r\\n',\n  '\\r\\nEmail: ',\n  <a href=\"mailto:query-atcp@helpareporter.net\">query-atcp@helpareporter.net</a>,\n  '\\n',\n  '\\r\\nMedia Outlet: Blogger',\n  '\\r\\nDeadline: 7:00 PM EST - 30 May\\r\\n',\n  '\\n',\n  <p>\n  Query: \n  \n  Currently seeking summer must-haves!  Looking to feature allkinds of different and unique summer products that are perfectfor any twenty-something.  Please don't hesitate to reach out ifyou have anything that may be the perfect summery fit! Thank youin advance!\n  </p>,\n  '\\n',\n  <p>\n  Requirements: \n  \n  Products are required for inclusion.\n  </p>,\n  '\\n',\n  <p><a href=\"#top\">Back to Top</a> <a href=\"#General\">Back to Category Index</a></p>,\n  '\\n',\n  <p>-----------------------------------</p>,\n  '\\r\\n\\r\\n18)',\n  <a id=\"atct\" name=\"atct\"></a>,\n  ' Summary: Making Coffee & Tea @ Home\\r\\n',\n  '\\n',\n  <p>Name: Nickki Mauceri\n  Blogger\n  </p>,\n  'Category: General\\r\\n',\n  '\\r\\nEmail: ',\n  <a href=\"mailto:query-atct@helpareporter.net\">query-atct@helpareporter.net</a>,\n  '\\n',\n  '\\r\\nMedia Outlet: Blogger',\n  '\\r\\nDeadline: 7:00 PM EST - 30 May\\r\\n',\n  '\\n',\n  <p>\n  Query: \n  \n  I am putting together a feature on how to brew and make the bestcoffee and tea drinks from home. Everyone should have theconfidence to brew, froth, flavor and enjoy at home! Looking tofeature everything from a beverage brewing system to syrups andeverything in between.  Please don't hesitate to reach out ifyou have anything that may be a perfect fit! Thank you inadvance!\n  </p>,\n  '\\n',\n  <p>\n  Requirements: \n  \n  Full sized products are requested for inclusion.\n  </p>,\n  '\\n',\n  <p><a href=\"#top\">Back to Top</a> <a href=\"#General\">Back to Category Index</a></p>,\n  '\\n',\n  <p>-----------------------------------</p>,\n  '\\r\\n\\r\\n19)',\n  <a id=\"atcy\" name=\"atcy\"></a>,\n  \" Summary: Father's Day Gift Guide\\r\\n\",\n  '\\n',\n  <p>Name: Nickki Mauceri\n  Blogger\n  </p>,\n  'Category: General\\r\\n',\n  '\\r\\nEmail: ',\n  <a href=\"mailto:query-atcy@helpareporter.net\">query-atcy@helpareporter.net</a>,\n  '\\n',\n  '\\r\\nMedia Outlet: Blogger',\n  '\\r\\nDeadline: 7:00 PM EST - 28 May\\r\\n',\n  '\\n',\n  <p>\n  Query: \n  \n  I am putting together a roundup post of gifts for Father's Day.I am seeking unique, fun and the perfect gifts for any dad.Please don't hesitate to reach out if you have something thatmay be a good fit! Thank you in advance!\n  </p>,\n  '\\n',\n  <p>\n  Requirements: \n  \n  Full sized products are requested for inclusion.\n  </p>,\n  '\\n',\n  <p><a href=\"#top\">Back to Top</a> <a href=\"#General\">Back to Category Index</a></p>,\n  '\\n',\n  <p>-----------------------------------</p>,\n  '\\r\\n\\r\\n20)',\n  <a id=\"athg\" name=\"athg\"></a>,\n  ' Summary: Travel Trailer/Camping Guide\\r\\n',\n  '\\n',\n  <p>Name: Stacy Tilton\n  Stacy Talks &amp; Reviews\n  </p>,\n  'Category: General\\r\\n',\n  '\\r\\nEmail: ',\n  <a href=\"mailto:query-athg@helpareporter.net\">query-athg@helpareporter.net</a>,\n  '\\n',\n  '\\r\\nMedia Outlet: Stacy Talks & Reviews',\n  '\\r\\nDeadline: 11:00 PM EST - 31 July\\r\\n',\n  '\\n',\n  <p>\n  Query: \n  \n  With many state parks and campgrounds opening back up I'mlooking for great products to include as part of me TravelTrailer/Camping Guide. Looking for things like toiletries,bedding, small appliances, dishes, outdoor lighting, outdooraccessories, folding chairs/tables, flashlights, fishing gear,Bluetooth speakers, compact accessories, tools, travel gear,hiking gear, vacuum bags, storage containers, etc. Productsamples are required for posting and feature. Blog complies withFTC guidelines. NO BOOKS, apps, or Hi Res Images.\n  </p>,\n  '\\n',\n  <p><a href=\"#top\">Back to Top</a> <a href=\"#General\">Back to Category Index</a></p>,\n  '\\n',\n  <p>-----------------------------------</p>,\n  '\\r\\n\\r\\n21)',\n  <a id=\"athi\" name=\"athi\"></a>,\n  ' Summary: Spring into Summer Guide\\r\\n',\n  '\\n',\n  <p>Name: Stacy Tilton\n  Stacy Talks &amp; Reviews\n  </p>,\n  'Category: General\\r\\n',\n  '\\r\\nEmail: ',\n  <a href=\"mailto:query-athi@helpareporter.net\">query-athi@helpareporter.net</a>,\n  '\\n',\n  '\\r\\nMedia Outlet: Stacy Talks & Reviews',\n  '\\r\\nDeadline: 11:00 PM EST - 30 June\\r\\n',\n  '\\n',\n  <p>\n  Query: \n  \n  Spring has sprung and summer will be here before we know it. I'mlooking for products to feature on the blog to help folks getout and enjoy the outdoors around them, as well as do any lastminute spring cleaning. I'm looking for things like swings, firepits, patio furniture, rugs, gardening supplies, yard decor,outdoor lighting, rock painting supplies, home cleaningsupplies, storage containers, robot vacuum, auto cat litter box,and anything else that will encourage getting up and movingindoors or out while people are still stuck at home.  Productsamples are required for posting and feature. Blog complies withFTC guidelines. NO BOOKS, apps, or Hi Res Images.\n  </p>,\n  '\\n',\n  <p><a href=\"#top\">Back to Top</a> <a href=\"#General\">Back to Category Index</a></p>,\n  '\\n',\n  <p>-----------------------------------</p>,\n  '\\n'],\n 'Lifestyle and Fitness': ['\\r\\n22)',\n  <a id=\"atgg\" name=\"atgg\"></a>,\n  ' Summary: MDs and Trainers: Story on Waist Trainers\\r\\n',\n  '\\n',\n  <p>Name: Julia Malacoff\n  InStyle\n  </p>,\n  'Category: Lifestyle and Fitness\\r\\n',\n  '\\r\\nEmail: ',\n  <a href=\"mailto:query-atgg@helpareporter.net\">query-atgg@helpareporter.net</a>,\n  '\\n',\n  '\\r\\nMedia Outlet: InStyle',\n  '\\r\\nDeadline: 10:00 AM EST - 22 May\\r\\n',\n  '\\n',\n  <p>\n  Query: \n  \n  I'm working on a story about waist trainers: what they are, whatthey do, and how they may affect your health big-picture. I'm looking for MDs (especially GI doctors) and trainers(especially those with expertise in weight loss and/or coredysfunction) to answer some questions about weight trainers--andwhy people might want to stay away from them.\n  </p>,\n  '\\n',\n  <p>\n  Requirements: \n  \n  -Must be a relevant physician or trainer (CSCS preferred). -Mustbe available for email interview by EOD Tuesday May 26. \n  </p>,\n  '\\n',\n  <p><a href=\"#top\">Back to Top</a> <a href=\"#LifestyleandFitness\">Back to Category Index</a></p>,\n  '\\n',\n  <p>-----------------------------------</p>,\n  '\\r\\n\\r\\n23)',\n  <a id=\"athd\" name=\"athd\"></a>,\n  ' Summary: Makeup with SPF / SPF to reapply over makeup\\r\\n',\n  '\\r\\nCategory: Lifestyle and Fitness\\r\\n',\n  '\\r\\nEmail: ',\n  <a href=\"mailto:query-athd@helpareporter.net\">query-athd@helpareporter.net</a>,\n  '\\n',\n  '\\r\\nMedia Outlet: The Coveteur ',\n  '\\r\\nDeadline: 7:00 PM EST - 22 May\\r\\n',\n  '\\n',\n  <p>\n  Query: \n  \n  Hi! I'm looking for makeup that contains SPF (moisturizer,foundation, tinted moisturizer, blush, bronzer, etc.) along withproducts with SPF that can be reapplied on top of makeup withoutmessing it up (powder/setting spray with SPF, etc.)\n  </p>,\n  '\\n',\n  <p><a href=\"#top\">Back to Top</a> <a href=\"#LifestyleandFitness\">Back to Category Index</a></p>,\n  '\\n',\n  <p>-----------------------------------</p>,\n  '\\r\\n\\r\\n24)',\n  <a id=\"as3q\" name=\"as3q\"></a>,\n  ' Summary: Benefits of cycling\\r\\n',\n  '\\n',\n  <p>Name: Katie Holmes\n  OutwitTrade\n  </p>,\n  'Category: Lifestyle and Fitness\\r\\n',\n  '\\r\\nEmail: ',\n  <a href=\"mailto:query-as3q@helpareporter.net\">query-as3q@helpareporter.net</a>,\n  '\\n',\n  '\\r\\nMedia Outlet: OutwitTrade',\n  '\\r\\nDeadline: 7:00 PM EST - 29 May\\r\\n',\n  '\\n',\n  <p>\n  Query: \n  \n  For people who cycle regularly, what's great about cycling andwhy do you do it? Why do you choose cycling over many otherforms of exercise that you could be doing instead? All commentswelcome.\n  </p>,\n  '\\n',\n  <p>\n  Requirements: \n  \n  Include your name, website URL and website name (or social mediaprofile if you prefer), and we'll link back to you.\n  </p>,\n  '\\n',\n  <p><a href=\"#top\">Back to Top</a> <a href=\"#LifestyleandFitness\">Back to Category Index</a></p>,\n  '\\n',\n  <p>-----------------------------------</p>,\n  '\\r\\n\\r\\n25)',\n  <a id=\"asxt\" name=\"asxt\"></a>,\n  ' Summary: What are the benefits of saunas - and are they good for you overall?\\r\\n',\n  '\\n',\n  <p>Name: Katie Holmes\n  OutwitTrade\n  </p>,\n  'Category: Lifestyle and Fitness\\r\\n',\n  '\\r\\nEmail: ',\n  <a href=\"mailto:query-asxt@helpareporter.net\">query-asxt@helpareporter.net</a>,\n  '\\n',\n  '\\r\\nMedia Outlet: OutwitTrade',\n  '\\r\\nDeadline: 7:00 PM EST - 27 May\\r\\n',\n  '\\n',\n  <p>\n  Query: \n  \n  Looking to hear from experts on the actual health benefits ofsaunas, and potential risks if any. I've heard a lot of greatthings about them esp. from Joe Rogan, for example - is thepraise for saunas warranted?\n  </p>,\n  '\\n',\n  <p>\n  Requirements: \n  \n  People with credentials who can comment with authority (i.e.health professionals), please do not comment otherwise. Includeyour name, website URL and website name (or social media profileif you prefer), and we'll link back to you.\n  </p>,\n  '\\n',\n  <p><a href=\"#top\">Back to Top</a> <a href=\"#LifestyleandFitness\">Back to Category Index</a></p>,\n  '\\n',\n  <p>-----------------------------------</p>,\n  '\\r\\n\\r\\n26)',\n  <a id=\"at0s\" name=\"at0s\"></a>,\n  \" Summary: Men's Lifestyle Website Seeking Specialist on Waterbeds \\r\\n\",\n  '\\n',\n  <p>Name: Taylor Galla\n  Spy.com\n  </p>,\n  'Category: Lifestyle and Fitness\\r\\n',\n  '\\r\\nEmail: ',\n  <a href=\"mailto:query-at0s@helpareporter.net\">query-at0s@helpareporter.net</a>,\n  '\\n',\n  '\\r\\nMedia Outlet: Spy.com',\n  '\\r\\nDeadline: 10:00 AM EST - 23 May\\r\\n',\n  '\\n',\n  <p>\n  Query: \n  \n  Hello! We're a men's lifestyle site looking for a specialist inthe interior design, mattress production, furniture making spacewho can speak about waterbeds. We're doing a story aboutwaterbeds, whether they still exist, the history, etc and we'dlove to talk to you! Reach out if you wouldn't mind a quickinterview, submitting a few quotes. We'll link to your site,social media etc. Thank you! \n  </p>,\n  '\\n',\n  <p>\n  Requirements: \n  \n  Specialist in furniture/mattress field who can speak aboutwaterbeds. \n  </p>,\n  '\\n',\n  <p><a href=\"#top\">Back to Top</a> <a href=\"#LifestyleandFitness\">Back to Category Index</a></p>,\n  '\\n',\n  <p>-----------------------------------</p>,\n  '\\r\\n\\r\\n27)',\n  <a id=\"ath4\" name=\"ath4\"></a>,\n  ' Summary: Bike\\r\\n',\n  '\\n',\n  <p>Name: Stephanie F\n  Beauty Brite\n  </p>,\n  'Category: Lifestyle and Fitness\\r\\n',\n  '\\r\\nEmail: ',\n  <a href=\"mailto:query-ath4@helpareporter.net\">query-ath4@helpareporter.net</a>,\n  '\\n',\n  '\\r\\nMedia Outlet: Beauty Brite',\n  '\\r\\nDeadline: 10:00 PM EST - 21 May\\r\\n',\n  '\\n',\n  <p>\n  Query: \n  \n  We are in search of products to review! We are stuck at home.We're looking for bikes, bicycles, bikes with baskets, etc. Wewill feature/cover/review your products on the blog and share onsocial media. Are you interested in getting your product infront of thousands of blog readers and social media followers?We are growing every day! Beauty Brite complies with FTCguidelines.\n  </p>,\n  '\\n',\n  <p>\n  Requirements: \n  \n  Must be fitness/health/wellness related items. Must be aproduct, not a service.\n  </p>,\n  '\\n',\n  <p><a href=\"#top\">Back to Top</a> <a href=\"#LifestyleandFitness\">Back to Category Index</a></p>,\n  '\\n',\n  <p>-----------------------------------</p>,\n  '\\r\\n\\r\\n28)',\n  <a id=\"ath5\" name=\"ath5\"></a>,\n  ' Summary: Fitness At Home\\r\\n',\n  '\\n',\n  <p>Name: Stephanie F\n  Beauty Brite\n  </p>,\n  'Category: Lifestyle and Fitness\\r\\n',\n  '\\r\\nEmail: ',\n  <a href=\"mailto:query-ath5@helpareporter.net\">query-ath5@helpareporter.net</a>,\n  '\\n',\n  '\\r\\nMedia Outlet: Beauty Brite',\n  '\\r\\nDeadline: 10:00 PM EST - 21 May\\r\\n',\n  '\\n',\n  <p>\n  Query: \n  \n   We are in search of products to review! We are interested inproducts related to Yoga, Pilates, Cardio, Kickboxing, Fitness,Equipment, bicycle, Tech, Fitness/athleisure Apparel, leggings,yoga pants, capri pants, legging capri, fitness tops, shoes,sneakers, Health/Wellness, weightloss products. We willfeature/cover/review your products on the blog and share onsocial media. Are you interested in getting your product infront of thousands of blog readers and social media followers?We are growing every day! Beauty Brite complies with FTCguidelines.\n  </p>,\n  '\\n',\n  <p>\n  Requirements: \n  \n   Must be fitness/health/wellness related items. Must be aproduct, not a service.\n  </p>,\n  '\\n',\n  <p><a href=\"#top\">Back to Top</a> <a href=\"#LifestyleandFitness\">Back to Category Index</a></p>,\n  '\\n',\n  <p>-----------------------------------</p>,\n  '\\n'],\n 'Public Policy and Government': ['\\r\\n29)',\n  <a id=\"ateo\" name=\"ateo\"></a>,\n  ' Summary: UTILITY COMPANIES PAYMENT ARRANGEMENTS\\r\\n',\n  '\\n',\n  <p>Name: Stacy Brown\n  The Washington Informer\n  </p>,\n  'Category: Public Policy and Government\\r\\n',\n  '\\r\\nEmail: ',\n  <a href=\"mailto:query-ateo@helpareporter.net\">query-ateo@helpareporter.net</a>,\n  '\\n',\n  '\\r\\nMedia Outlet: The Washington Informer',\n  '\\r\\nDeadline: 6:00 AM EST - 23 May\\r\\n',\n  '\\n',\n  <p>\n  Query: \n  \n  DC Council is pushing legislation that would mandate utilitycompanies offer payment programs to residents during the currentand any future pandemic. What are your thoughts? EMAIL RESPONSESONLY WILL BE ACCEPTED AND USED.\n  </p>,\n  '\\n',\n  <p>\n  Requirements: \n  \n  EMAIL ONLY \n  </p>,\n  '\\n',\n  <p><a href=\"#top\">Back to Top</a> <a href=\"#PublicPolicyandGovernment\">Back to Category Index</a></p>,\n  '\\n',\n  <p>-----------------------------------</p>,\n  '\\n',\n  '\\r\\n12051 Indian Creek Ct., Beltsville, MD 20705, USA\\r\\n',\n  '\\r\\nYour HARO subscription address is: ac4e1d0e-9a69-45a2-a649-e8cbebc07368@mailslurp.com\\r\\n',\n  '\\r\\nTo unsubscribe visit:\\r\\n',\n  <a href=\"https://app.helpareporter.com/unsubscribe?email=ac4e1d0e-9a69-45a2-a649-e8cbebc07368@mailslurp.com&amp;industryId=0\">https://app.helpareporter.com/unsubscribe?email=ac4e1d0e-9a69-45a2-a649-e8cbebc07368@mailslurp.com&amp;industryId=0</a>,\n  '\\n',\n  '\\r\\nFor delivery help: ',\n  <a href=\"mailto:support@helpareporter.com\">support@helpareporter.com</a>,\n  '\\n',\n  '-',\n  '\\r\\nTeam HARO\\r\\n',\n  '\\n',\n  <a href=\"http://www.facebook.com/helpareporter\">http://www.facebook.com/helpareporter</a>,\n  '\\n',\n  '\\n',\n  <a href=\"http://twitter.com/helpareporter\">http://twitter.com/helpareporter</a>,\n  '\\n',\n  '\\r\\nfor urgent queries\\r\\n',\n  '\\r\\nCopyright 2008-2020 Cision US, Inc. All Rights Reserved.\\r\\n',\n  '\\r\\nA#50464 / O#50682\\r\\n',\n  <img border=\"0\" height=\"0\" src=\"https://app.helpareporter.com/Handlers/Action.ashx?A=57AZROSsMQSM2tvIxuUa6w%3d%3d&amp;B=AyQoMRhrFcywQ%2bCAFBJZiA%3d%3d&amp;C=6rdV8x4uErNXDQCQIaqCFg%3d%3d\" style=\"display: none\" width=\"0\"/>,\n  '\\n'],\n '****************************': ['\\n']}"
     },
     "metadata": {},
     "execution_count": 34
    }
   ],
   "source": [
    "reporters_in_category"
   ]
  },
  {
   "cell_type": "code",
   "execution_count": 35,
   "metadata": {},
   "outputs": [],
   "source": [
    "stories = []\n",
    "story = None\n",
    "final_category = None\n",
    "for category in reporters_in_category:\n",
    "    if \"***\" not in category:\n",
    "        final_category = category\n",
    "        for each_block in reporters_in_category[category]:\n",
    "#             if isinstance(each_block, bs4.element.Tag):\n",
    "#                 print(\":::::::::::::::::::::::::::::::\")\n",
    "#                 print(each_block)\n",
    "            if isinstance(each_block, bs4.element.NavigableString):\n",
    "                if \"Summary\" in each_block.string:\n",
    "                    summary = each_block.string.split(\"Summary: \")[1]\n",
    "                    if story is not None:\n",
    "                        story[\"category\"] = category\n",
    "                        stories.append(story)\n",
    "                        story = None\n",
    "                    story = {\"summary\": summary}\n",
    "                if \"Media Outlet\" in each_block.string:\n",
    "                    media_outlet = each_block.string.split(\"Media Outlet: \")[1]\n",
    "                    story[\"media_outlet\"] = media_outlet   \n",
    "                if \"Deadline\" in each_block.string:\n",
    "                    deadline = each_block.string.split(\"Deadline: \")[1].split(\"-\")\n",
    "                    deadline_date = deadline[1]\n",
    "                    deadline_time = deadline[0]\n",
    "                    story[\"deadline_date\"] = deadline_date\n",
    "                    story[\"deadline_time\"] = deadline_time\n",
    "                if \"12051 Indian Creek Ct., Beltsville, MD 20705, USA\" in each_block.string:\n",
    "                    break\n",
    "            if isinstance(each_block, bs4.element.Tag):\n",
    "                if each_block.name == 'p':\n",
    "                    if \"Name: \" in each_block.text:\n",
    "                        story[\"name\"] = each_block.text.split(\"Name: \")[1] \n",
    "                    if \"Query specifics:\" in each_block.text:\n",
    "                        story[\"query_specifics\"] = each_block.text.split(\"Query specifics: \")[1] \n",
    "                    if \"Query:\" in each_block.text:\n",
    "                        story[\"query\"] = each_block.text.split(\"Query: \")[1] \n",
    "                    if \"Requirements\" in each_block.text:\n",
    "                        story[\"requirements\"] = each_block.text.split(\"Requirements: \")[1]\n",
    "                if each_block.name == 'a':\n",
    "                    if \"target\" in each_block.attrs:\n",
    "                        story[\"email\"] = each_block.attrs['href']\n",
    "story[\"category\"] = final_category\n",
    "if story is not None:\n",
    "    stories.append(story)"
   ]
  },
  {
   "cell_type": "code",
   "execution_count": 36,
   "metadata": {
    "scrolled": true
   },
   "outputs": [
    {
     "output_type": "execute_result",
     "data": {
      "text/plain": "29"
     },
     "metadata": {},
     "execution_count": 36
    }
   ],
   "source": [
    "len(stories)"
   ]
  },
  {
   "cell_type": "code",
   "execution_count": 37,
   "metadata": {},
   "outputs": [
    {
     "output_type": "stream",
     "name": "stdout",
     "text": "Requirement already satisfied: airtable-python-wrapper in /usr/local/lib/python3.7/site-packages (0.13.0)\nRequirement already satisfied: requests>=2 in /usr/local/lib/python3.7/site-packages (from airtable-python-wrapper) (2.21.0)\nRequirement already satisfied: six>=1.10 in /Users/arjunrao/Library/Python/3.7/lib/python/site-packages (from airtable-python-wrapper) (1.12.0)\nRequirement already satisfied: idna<2.9,>=2.5 in /usr/local/lib/python3.7/site-packages (from requests>=2->airtable-python-wrapper) (2.8)\nRequirement already satisfied: chardet<3.1.0,>=3.0.2 in /usr/local/lib/python3.7/site-packages (from requests>=2->airtable-python-wrapper) (3.0.4)\nRequirement already satisfied: certifi>=2017.4.17 in /usr/local/lib/python3.7/site-packages (from requests>=2->airtable-python-wrapper) (2019.3.9)\nRequirement already satisfied: urllib3<1.25,>=1.21.1 in /usr/local/lib/python3.7/site-packages (from requests>=2->airtable-python-wrapper) (1.24.2)\nNote: you may need to restart the kernel to use updated packages.\n"
    }
   ],
   "source": [
    "pip install airtable-python-wrapper"
   ]
  },
  {
   "cell_type": "code",
   "execution_count": 38,
   "metadata": {},
   "outputs": [],
   "source": [
    "from airtable import Airtable\n",
    "import os\n",
    "os.environ[\"AIRTABLE_API_KEY\"] = \"\"\n",
    "airtable = Airtable('', '')"
   ]
  },
  {
   "cell_type": "code",
   "execution_count": 39,
   "metadata": {},
   "outputs": [
    {
     "output_type": "execute_result",
     "data": {
      "text/plain": " so thediscussion needs to be in-depth.\\n\",\n   'deadline_date': ' 23 May\\r\\n',\n   'deadline_time': '7:00 PM EST '},\n  'createdTime': '2020-05-22T00:12:47.000Z'},\n {'id': 'recs5dsTqN9ivkTRZ',\n  'fields': {'id': 354,\n   'category': 'Lifestyle and Fitness',\n   'summary': 'Bikes / Bicycles\\r\\n',\n   'media_outlet': 'Beauty Brite',\n   'name': 'Stephanie F\\r\\nBeauty Brite\\r\\n',\n   'query': \"\\r\\n\\r\\n We are in search of products to review! We are stuck at home.We're looking for bikes, bicycles, bikes with baskets, etc. Wewill feature/cover/review your products on the blog and share onsocial media. Are you interested in getting your product infront of thousands of blog readers and social media followers?We are growing every day! Beauty Brite complies with FTCguidelines.\\n\",\n   'requirements': '\\r\\n\\r\\nMust be fitness/health/wellness related items. Must be aproduct, not a service.\\n',\n   'deadline_date': ' 21 May\\r\\n',\n   'deadline_time': '10:00 PM EST '},\n  'createdTime': '2020-05-22T00:12:49.000Z'},\n {'id': 'recsJ2B8jnLMs40TP',\n  'fields': {'id': 13},\n  'createdTime': '2020-05-21T22:56:46.000Z'},\n {'id': 'recssA5tY80jGNe0B',\n  'fields': {'id': 185},\n  'createdTime': '2020-05-21T23:03:10.000Z'},\n {'id': 'rect81Fe1dvUm5LXo',\n  'fields': {'id': 84},\n  'createdTime': '2020-05-21T23:00:02.000Z'},\n {'id': 'rectHt5r8wpL97nQq',\n  'fields': {'id': 392,\n   'category': 'Business and Finance ',\n   'summary': 'Best practices for small businesses trying to forecast income and expenses during COVID-19 crisis\\r\\n',\n   'media_outlet': \"Pet Sitter's World magazine / The PSI Blog\",\n   'name': \"Meghann Evans\\r\\nPet Sitter's World magazine / The PSI Blog\\r\\n\",\n   'query': '\\r\\n\\r\\nSeeking a business coach/consultant or financial planner toprovide tips on best practices for small businesses trying toforecast their income and expenses at this time. How canbusinesses financially plan/do a financial forecast right now inlight of the uncertainty re: COVID-19? Please provide tips inyour initial email.\\n',\n   'requirements': '\\r\\n\\r\\nMust be a business coach/consultant or financial planner. Nolocation requirement.\\n',\n   'deadline_date': ' 21 May\\r\\n',\n   'deadline_time': '5:00 PM EST '},\n  'createdTime': '2020-05-22T18:10:59.000Z'},\n {'id': 'rectKCakt6mtbqPvv',\n  'fields': {'id': 272},\n  'createdTime': '2020-05-22T00:11:55.000Z'},\n {'id': 'rectakdYBCtizF6r4',\n  'fields': {'id': 155},\n  'createdTime': '2020-05-21T23:03:05.000Z'},\n {'id': 'recuAwo0FIreVuYr8',\n  'fields': {'id': 7},\n  'createdTime': '2020-05-21T22:42:14.000Z'},\n {'id': 'recuDzozm1Md70lkK',\n  'fields': {'id': 334,\n   'category': 'General',\n   'summary': 'Need sources for story: Reverse mortgage vs. HELOC vs. personal loan\\r\\n',\n   'media_outlet': 'Money-Rates.com',\n   'name': 'Erik Martin\\r\\nMoney-Rates.com\\r\\n',\n   'query': \"\\r\\n\\r\\nHello. My name is Erik Martin (more about me atmartinspiration.com), writer with Money-Rates.com. I'm lookingto interview lenders/mortgage experts, real estate faculty, andhousing industry experts (no real estate agents/brokers, please)for the following story:Reverse mortgage vs. HELOC vs. personal loan: What's the rightchoice for older borrowers? For an older homeowner who has builtup sufficient equity but needs cash for a major transaction(e.g., to pay off hospital bills, finance a wedding, pay forremodeling, etc.), they may be thinking which financing optionis best. This story will explore the pros and cons of a reversemortgage vs. a HELOC vs. a personal loan. Below is a list ofquestions I'm seeking answers to. I can either conduct a phoneor email interview (with the latter, please email me backfull-sentence written responses that I can use as quotes). Mydeadline is 2 p.m. central, Tuesday, May 26.QUESTIONS: 1.\\tWhat are some common reasons why older homeownersmay need to finance a major transaction? How can havingsufficient equity built up help their cause? 2.\\tPleaseexplain/describe a reverse mortgage. What are its pros and cons?And who is eligible for this and who is a good candidate andwhy? 3.\\tPlease explain/describe a HELOC. What are its pros andcons? And who is eligible for this and who is a good candidateand why? 4.\\tPlease explain/describe a personal loan. What areits pros and cons? And who is eligible for this and who is agood candidate and why? 5.\\tAmong these 3 choices, which onewould you most recommend and why? 6.\\tAre there any betteralternatives to these 3 choices that an older homeowner withlots of equity should consider instead? Why? 7.\\tWhat shouldolder homeowners consider carefully and avoid before committingto any of these or another financing option (e.g., it's risky toassume more debt as you get older, etc.)? 8.\\tAny other thoughts,tips or suggestions on this topic? 9.\\tWhat is your full name,title, company, city/state location, and email address?Erik Martin martinspiration@gmail.com  \\n\",\n   'requirements': '\\r\\n\\r\\nSee query\\n',\n   'deadline_date': ' 26 May\\r\\n',\n   'deadline_time': '3:00 PM EST '},\n  'createdTime': '2020-05-22T00:12:45.000Z'},\n {'id': 'recuJYyGkjsYTG3St',\n  'fields': {'id': 265},\n  'createdTime': '2020-05-22T00:11:54.000Z'},\n {'id': 'recuV27Bj6CXGw8ap',\n  'fields': {'id': 345,\n   'category': 'Lifestyle and Fitness',\n   'summary': 'Need OB/GYNs, midwives, pregnancy and nutrition experts: weight gain & pregnancy\\r\\n',\n   'media_outlet': 'SheKnows Media',\n   'name': 'Danielle Sinay\\r\\nSheKnows Media\\r\\n',\n   'query': '\\r\\n\\r\\nHi! I\\'m writing a piece on policing pregnant bodies and fatshaming, and I\\'m covering weight gain before/during pregnancy,as well as gestational diabetes. I\\'ve seen conflicting researchon the topic, so I\\'d like to speak to experts: Does beingoverweight in fact put someone at a higher risk for developinggestational diabetes, or has it been found to be more \"random?\"(I\\'ve seen both.) On that note, does being \"overweight\" actuallylead to an unsafer pregnancy? And what can someone do to ensurea healthy pregnancy if they can\\'t lose weight?Any more thoughts on weight gain/being overweight and how itrelates to pregnant people and their health are welcome. Fulldisclosure: This is in defense of body positivity/neutrality,and I don\\'t plan to preach weight loss as a cure-all for healthypregnancies. (I also doubt it\\'s that simple!)Thank you!\\n',\n   'requirements': '\\r\\n\\r\\nObstetrician-gynecologists, midwives, dieticians.Pregancy/nutrition experts.\\n',\n   'deadline_date': ' 22 May\\r\\n',\n   'deadline_time': '2:00 PM EST '},\n  'createdTime': '2020-05-22T00:12:48.000Z'},\n {'id': 'recubVABGLwM8DAA2',\n  'fields': {'id': 367,\n   'category': 'General',\n   'summary': \"WOMEN'S SUFFRAGE\\r\\n\",\n   'media_outlet': 'The Washington Informer',\n   'name': 'Stacy Brown\\r\\nThe Washington Informer\\r\\n',\n   'query': '\\r\\n\\r\\nIn 1911  the suffrage movement received more push back. TheNational Association Opposed to Women Suffrage was formed tooppose suffrage. It was a group of women who believed that menonly should have the right to vote and the push for AfricanAmericans rights further angered the group. WE WANT YOURTHOUGHTS ON THIS. EMAIL RESPONSES ONLY WE CANNOT CALL YOU ORACCEPT CALLS\\n',\n   'requirements': '\\r\\n\\r\\nEMAIL RESPONSES ONLY\\n',\n   'deadline_date': ' 23 May\\r\\n',\n   'deadline_time': '6:00 AM EST '},\n  'createdTime': '2020-05-22T03:02:42.000Z'},\n {'id': 'recud8W9NczsRW6MN',\n  'fields': {'id': 331,\n   'category': 'General',\n   'summary': 'Expert Feedback for COVID-19 Graduates\\r\\n',\n   'media_outlet': 'Red Ventures',\n   'name': 'Lena Borrelli\\r\\nRed Ventures\\r\\n',\n   'query': '\\r\\n\\r\\nPlease offer your thoughts on \"Graduating During Coronavirus?Tips for Moving, Job Hunting in a Pandemic.\"* Are colleges holding graduations?  * Is it safe to move duringcoronavirus? * Will I be able to find a job during COVID-19? \\n',\n   'requirements': '\\r\\n\\r\\nSeeking feedback from therapists, counselors, job counselors,head hunters, professors, etc. \\n',\n   'deadline_date': ' 23 May\\r\\n',\n   'deadline_time': '5:00 PM EST '},\n  'createdTime': '2020-05-22T00:12:43.000Z'},\n {'id': 'recuqT4aF1Fu8VC6y',\n  'fields': {'id': 232},\n  'createdTime': '2020-05-22T00:11:48.000Z'},\n {'id': 'recv1pOtMBU055YgX',\n  'fields': {'id': 85},\n  'createdTime': '2020-05-21T23:00:02.000Z'},\n {'id': 'recvVZTFDihFT3oqJ',\n  'fields': {'id': 60},\n  'createdTime': '2020-05-21T22:59:58.000Z'},\n {'id': 'recvhiG5CPhjTU3pT',\n  'fields': {'id': 239},\n  'createdTime': '2020-05-22T00:11:49.000Z'},\n {'id': 'recvl4XHomWUU7PnM',\n  'fields': {'id': 267},\n  'createdTime': '2020-05-22T00:11:54.000Z'},\n {'id': 'recvv2ddZHUbvyLjy',\n  'fields': {'id': 412,\n   'category': 'Lifestyle and Fitness',\n   'summary': 'What are the benefits of saunas - and are they good for you overall?\\r\\n',\n   'media_outlet': 'OutwitTrade',\n   'name': 'Katie Holmes\\r\\nOutwitTrade\\r\\n',\n   'query': \"\\r\\n\\r\\nLooking to hear from experts on the actual health benefits ofsaunas, and potential risks if any. I've heard a lot of greatthings about them esp. from Joe Rogan, for example - is thepraise for saunas warranted?\\n\",\n   'requirements': \"\\r\\n\\r\\nPeople with credentials who can comment with authority (i.e.health professionals), please do not comment otherwise. Includeyour name, website URL and website name (or social media profileif you prefer), and we'll link back to you.\\n\",\n   'deadline_date': ' 27 May\\r\\n',\n   'deadline_time': '7:00 PM EST '},\n  'createdTime': '2020-05-22T18:11:02.000Z'},\n {'id': 'recw1cZAhyRmV5kXJ',\n  'fields': {'id': 213},\n  'createdTime': '2020-05-22T00:11:41.000Z'},\n {'id': 'recwSOUikdKBByNgf',\n  'fields': {'id': 414,\n   'category': 'Lifestyle and Fitness',\n   'summary': 'Bike\\r\\n',\n   'media_outlet': 'Beauty Brite',\n   'name': 'Stephanie F\\r\\nBeauty Brite\\r\\n',\n   'query': \"\\r\\n\\r\\nWe are in search of products to review! We are stuck at home.We're looking for bikes, bicycles, bikes with baskets, etc. Wewill feature/cover/review your products on the blog and share onsocial media. Are you interested in getting your product infront of thousands of blog readers and social media followers?We are growing every day! Beauty Brite complies with FTCguidelines.\\n\",\n   'requirements': '\\r\\n\\r\\nMust be fitness/health/wellness related items. Must be aproduct, not a service.\\n',\n   'deadline_date': ' 21 May\\r\\n',\n   'deadline_time': '10:00 PM EST '},\n  'createdTime': '2020-05-22T18:11:03.000Z'},\n {'id': 'recwbLpnp8Gt6ejyj',\n  'fields': {'id': 391,\n   'category': 'Business and Finance ',\n   'summary': '# Unconventional Salespeople You Need to Know\\r\\n',\n   'media_outlet': 'Crunchbase Blog',\n   'name': 'Jaclyn Robinson\\r\\nCrunchbase Blog\\r\\n',\n   'query': '\\r\\n\\r\\nLooking for a contributed, listicle-style article with 5-10sales leaders that stand out in the industry for unique reasons. \\n',\n   'requirements': \"\\r\\n\\r\\nContributors must:  - Have some experience in sales or marketingIn your pitch please include:  - The names of the salespeopleyou'd like to include - Contributor/contributor's companyCrunchbase profile  - Contributor's LinkedIn profile\\n\",\n   'deadline_date': ' 23 May\\r\\n',\n   'deadline_time': '7:00 PM EST '},\n  'createdTime': '2020-05-22T18:10:59.000Z'},\n {'id': 'recwdGhrrWGtOouK7',\n  'fields': {'id': 241},\n  'createdTime': '2020-05-22T00:11:50.000Z'},\n {'id': 'recwk4QJKX2LbGvPV',\n  'fields': {'id': 35},\n  'createdTime': '2020-05-21T22:56:50.000Z'},\n {'id': 'recwmp3uRlQ5hlt76',\n  'fields': {'id': 357,\n   'category': 'Travel',\n   'summary': 'Looking for transportation expert to discuss slow streets movement\\r\\n',\n   'media_outlet': 'San Francisco Chronicle',\n   'name': 'Otis  Taylor\\r\\nSan Francisco Chronicle\\r\\n',\n   'query': '\\r\\n\\r\\nOakland began closing some neighborhood streets to throughtraffic in April, a move replicated by other cities across thecountry. It\\'s part of the \"slow streets\" movement, as citiesrethink the role that pavement can play in large Americancities. Is this a positive development for cities. Are slowstreets here to stay? \\n',\n   'deadline_date': ' 22 May\\r\\n',\n   'deadline_time': '12:00 PM PST '},\n  'createdTime': '2020-05-22T00:12:50.000Z'},\n {'id': 'recwqIfeTo44ob7c6',\n  'fields': {'id': 260},\n  'createdTime': '2020-05-22T00:11:53.000Z'},\n {'id': 'recwuzD1jUUY5o40d',\n  'fields': {'id': 70},\n  'createdTime': '2020-05-21T22:59:59.000Z'},\n {'id': 'recx5vpfL66bgee5r',\n  'fields': {'id': 372,\n   'category': 'General',\n   'summary': 'Entertainment Gift Guide 2020\\r\\n',\n   'media_outlet': 'Little Helpers In Life',\n   'name': 'Amanda Osburn\\r\\nLittle Helpers In Life\\r\\n',\n   'query': '\\r\\n\\r\\nHi my name is Amanda and I own Little Helpers In Life where I doreviews,and much more. I am starting to gather differentsponsors for my entertainment gift guide. Items I am looking toinclude could be games, products for hosting, products that makegood gifts for hosts, dinnerware, silverware, etc. All I requireis full size products in exchange for a feature in my guide.Thank you so much for taking the time to read this. I lookforward to working together.\\n',\n   'requirements': '\\r\\n\\r\\nFull size product is required for photography and contentcreation reasons.\\n',\n   'deadline_date': ' 24 May\\r\\n',\n   'deadline_time': '7:00 PM EST '},\n  'createdTime': '2020-05-22T03:02:43.000Z'},\n {'id': 'recxPIOGyzHXLYSFX',\n  'fields': {'id': 318,\n   'category': 'General',\n   'summary': 'New Yorkers exodus\\r\\n',\n   'media_outlet': 'FRANCE 24 - CORRESPONDANTS ETRANGERS',\n   'name': 'céline Bruneau\\r\\nFRANCE 24 - CORRESPONDANTS ETRANGERS\\r\\n',\n   'query': '\\r\\n\\r\\nHi, I would like to do a tv story about some New Yorkers decision toleave the city during the coronavirus crisis.  \\n',\n   'requirements': '\\r\\n\\r\\nI would need to interview a family who decided to go to theirvacation house or who rented a placeI also would like to interview a real estate agent in placeslike the Hamptons\\n',\n   'deadline_date': ' 23 May\\r\\n',\n   'deadline_time': '7:00 PM EST '},\n  'createdTime': '2020-05-22T00:12:32.000Z'},\n {'id': 'recxWeRNQ4I2bnEoQ',\n  'fields': {'id': 50},\n  'createdTime': '2020-05-21T22:58:39.000Z'},\n {'id': 'recxal2Iun43viZ8a',\n  'fields': {'id': 253},\n  'createdTime': '2020-05-22T00:11:52.000Z'},\n {'id': 'recxfzMuZS7J71Gur',\n  'fields': {'id': 76},\n  'createdTime': '2020-05-21T23:00:00.000Z'},\n {'id': 'recxmdtg22zs5ied8',\n  'fields': {'id': 142},\n  'createdTime': '2020-05-21T23:03:03.000Z'},\n {'id': 'recxnHDcVHwXyZnYw',\n  'fields': {'id': 74},\n  'createdTime': '2020-05-21T23:00:00.000Z'},\n {'id': 'recxq8z5LLkDY09x8',\n  'fields': {'id': 169},\n  'createdTime': '2020-05-21T23:03:07.000Z'},\n {'id': 'recy20zQc5ovScXMA',\n  'fields': {'id': 371,\n   'category': 'General',\n   'summary': 'Anniversary Gifts For Him On Little Helpers In Life\\r\\n',\n   'media_outlet': 'Little Helpers In Life',\n   'name': 'Amanda Osburn\\r\\nLittle Helpers In Life\\r\\n',\n   'query': '\\r\\n\\r\\nHi, my name is Amanda. I run a blog called Little Helpers InLife. I am looking to do reviews on my blog about great andinteresting gift ideas for anniversaries for men. As I know alot of women have a hard time finding that perfect gift for himwhen it comes to the perfect anniversary gift. I look forward toworking with you! This can include anything from pocket knives,watches, clothing, wallets, adult toys etc. There will be apermanent link for each item featured onwww.littlehelpersinlife.com This blog follows FTC bloggerguidelines, and has unique monthly visitors.Full size product isrequired for photography, and content creation reasons.\\n',\n   'requirements': '\\r\\n\\r\\nFull size product is required for photography and contentcreation reasons.\\n',\n   'deadline_date': ' 24 May\\r\\n',\n   'deadline_time': '7:00 PM EST '},\n  'createdTime': '2020-05-22T03:02:42.000Z'},\n {'id': 'recy2uLZ1OgV66fle',\n  'fields': {'id': 65},\n  'createdTime': '2020-05-21T22:59:59.000Z'},\n {'id': 'recy89f1Q38OBYtZq',\n  'fields': {'id': 413,\n   'category': 'Lifestyle and Fitness',\n   'summary': \"Men's Lifestyle Website Seeking Specialist on Waterbeds \\r\\n\",\n   'media_outlet': 'Spy.com',\n   'name': 'Taylor Galla\\r\\nSpy.com\\r\\n',\n   'query': \"\\r\\n\\r\\nHello! We're a men's lifestyle site looking for a specialist inthe interior design, mattress production, furniture making spacewho can speak about waterbeds. We're doing a story aboutwaterbeds, whether they still exist, the history, etc and we'dlove to talk to you! Reach out if you wouldn't mind a quickinterview, submitting a few quotes. We'll link to your site,social media etc. Thank you! \\n\",\n   'requirements': '\\r\\n\\r\\nSpecialist in furniture/mattress field who can speak aboutwaterbeds. \\n',\n   'deadline_date': ' 23 May\\r\\n',\n   'deadline_time': '10:00 AM EST '},\n  'createdTime': '2020-05-22T18:11:03.000Z'},\n {'id': 'recyWNOLWz9iJRv5P',\n  'fields': {'id': 330,\n   'category': 'General',\n   'summary': 'Making Coffee & Tea @ Home\\r\\n',\n   'media_outlet': 'Blogger',\n   'name': 'Nickki Mauceri\\r\\nBlogger\\r\\n',\n   'query': \"\\r\\n\\r\\nI am putting together a feature on how to brew and make the bestcoffee and tea drinks from home. Everyone should have theconfidence to brew, froth, flavor and enjoy at home! Looking tofeature everything from a beverage brewing system to syrups andeverything in between.  Please don't hesitate to reach out ifyou have anything that may be a perfect fit! Thank you inadvance!\\n\",\n   'requirements': '\\r\\n\\r\\nFull sized products are requested for inclusion.\\n',\n   'deadline_date': ' 30 May\\r\\n',\n   'deadline_time': '7:00 PM EST '},\n  'createdTime': '2020-05-22T00:12:39.000Z'},\n {'id': 'recyXDy7oAxHaQfrV',\n  'fields': {'id': 133},\n  'createdTime': '2020-05-21T23:03:01.000Z'},\n {'id': 'recyXwte52Pjaxmdz',\n  'fields': {'id': 143},\n  'createdTime': '2020-05-21T23:03:03.000Z'},\n {'id': 'recyZxFllhaEHvD7J',\n  'fields': {'id': 42},\n  'createdTime': '2020-05-21T22:56:51.000Z'},\n {'id': 'recyeUEZGhkKKZk95',\n  'fields': {'id': 139},\n  'createdTime': '2020-05-21T23:03:02.000Z'},\n {'id': 'recyfI45RSL5YFpIG',\n  'fields': {'id': 44},\n  'createdTime': '2020-05-21T22:56:51.000Z'},\n {'id': 'recyt6lKQSIVI9iSu',\n  'fields': {'id': 112},\n  'createdTime': '2020-05-21T23:01:36.000Z'},\n {'id': 'recyxNl2RuHvAT7ML',\n  'fields': {'id': 138},\n  'createdTime': '2020-05-21T23:03:02.000Z'},\n {'id': 'recyxjnmxjE5MCGfl',\n  'fields': {'id': 251},\n  'createdTime': '2020-05-22T00:11:52.000Z'},\n {'id': 'reczPlnctlPOuD7sa',\n  'fields': {'id': 14},\n  'createdTime': '2020-05-21T22:56:46.000Z'},\n {'id': 'reczWwYlDX7sCQIvx',\n  'fields': {'id': 383,\n   'category': 'Lifestyle and Fitness',\n   'summary': 'What are the benefits of saunas - and are they good for you overall?\\r\\n',\n   'media_outlet': 'OutwitTrade',\n   'name': 'Katie Holmes\\r\\nOutwitTrade\\r\\n',\n   'query': \"\\r\\n\\r\\nLooking to hear from experts on the actual health benefits ofsaunas, and potential risks if any. I've heard a lot of greatthings about them esp. from Joe Rogan, for example - is thepraise for saunas warranted?\\n\",\n   'requirements': \"\\r\\n\\r\\nPeople with credentials who can comment with authority (i.e.health professionals), please do not comment otherwise. Includeyour name, website URL and website name (or social media profileif you prefer), and we'll link back to you.\\n\",\n   'deadline_date': ' 27 May\\r\\n',\n   'deadline_time': '7:00 PM EST '},\n  'createdTime': '2020-05-22T03:02:44.000Z'},\n {'id': 'reczYO9ce3grGZBrM',\n  'fields': {'id': 271},\n  'createdTime': '2020-05-22T00:11:55.000Z'},\n {'id': 'reczZO4bNxJt2hu73',\n  'fields': {'id': 113},\n  'createdTime': '2020-05-21T23:01:37.000Z'},\n {'id': 'reczaL58W1wgOgI6c',\n  'fields': {'id': 273},\n  'createdTime': '2020-05-22T00:11:55.000Z'},\n {'id': 'reczjn4GsDiELVFXG',\n  'fields': {'id': 51},\n  'createdTime': '2020-05-21T22:58:39.000Z'},\n {'id': 'reczlPhCH94Dmxe6i',\n  'fields': {'id': 252},\n  'createdTime': '2020-05-22T00:11:52.000Z'},\n {'id': 'reczqERDQZPBj7Dv8',\n  'fields': {'id': 250},\n  'createdTime': '2020-05-22T00:11:51.000Z'},\n {'id': 'reczqajcuYaRqYFiq',\n  'fields': {'id': 88},\n  'createdTime': '2020-05-21T23:01:33.000Z'},\n {'id': 'reczy4zdFuvrqtxOK',\n  'fields': {'id': 150},\n  'createdTime': '2020-05-21T23:03:04.000Z'}]"
     },
     "metadata": {},
     "execution_count": 39
    }
   ],
   "source": [
    "airtable.get_all()"
   ]
  },
  {
   "cell_type": "code",
   "execution_count": 40,
   "metadata": {},
   "outputs": [
    {
     "output_type": "stream",
     "name": "stdout",
     "text": "Done\n"
    }
   ],
   "source": [
    "for story in stories:\n",
    "    airtable.insert(story)\n",
    "print(\"Done\")"
   ]
  },
  {
   "cell_type": "code",
   "execution_count": null,
   "metadata": {},
   "outputs": [],
   "source": []
  }
 ],
 "metadata": {
  "kernelspec": {
   "display_name": "Python 3",
   "language": "python",
   "name": "python3"
  },
  "language_info": {
   "codemirror_mode": {
    "name": "ipython",
    "version": 3
   },
   "file_extension": ".py",
   "mimetype": "text/x-python",
   "name": "python",
   "nbconvert_exporter": "python",
   "pygments_lexer": "ipython3",
   "version": "3.7.5-final"
  }
 },
 "nbformat": 4,
 "nbformat_minor": 4
}